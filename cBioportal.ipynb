{
 "cells": [
  {
   "cell_type": "markdown",
   "metadata": {},
   "source": [
    "## Carga de datos\n",
    "\n"
   ]
  },
  {
   "cell_type": "code",
   "execution_count": 218,
   "metadata": {},
   "outputs": [],
   "source": [
    "import numpy as np\n",
    "import pandas as pd\n",
    "from sklearn.model_selection import train_test_split\n",
    "from sklearn.preprocessing import MinMaxScaler\n",
    "import keras\n",
    "from keras.models import Sequential\n",
    "from keras.layers import Dense, Dropout\n",
    "from keras.optimizers import SGD, adam\n"
   ]
  },
  {
   "cell_type": "code",
   "execution_count": 219,
   "metadata": {
    "scrolled": true
   },
   "outputs": [],
   "source": [
    "#dataset import\n",
    "dataTFM = pd.read_csv(\"./cBIOPORTAL/ML/expression_y_clinica_firma_3_cancer_2000.csv\",sep='\\t')\n",
    "\n",
    "#eliminamos OS_STATUS\n",
    "dataTFM = dataTFM.drop('OS_STATUS', axis=1)\n",
    "#cambiamos el valor de DFS_STATUS para poder utilizarlo como clase\n",
    "dataTFM['DFS_STATUS'] = np.where(dataTFM['DFS_STATUS'] =='1:Recurred/Progressed', 1, 0)\n",
    "\n",
    "#Changing pandas dataframe to numpy array\n",
    "features = dataTFM.iloc[:,:48].values\n",
    "labels = dataTFM.iloc[:,48:49].values\n"
   ]
  },
  {
   "cell_type": "code",
   "execution_count": 220,
   "metadata": {},
   "outputs": [
    {
     "data": {
      "text/html": [
       "<div>\n",
       "<style scoped>\n",
       "    .dataframe tbody tr th:only-of-type {\n",
       "        vertical-align: middle;\n",
       "    }\n",
       "\n",
       "    .dataframe tbody tr th {\n",
       "        vertical-align: top;\n",
       "    }\n",
       "\n",
       "    .dataframe thead th {\n",
       "        text-align: right;\n",
       "    }\n",
       "</style>\n",
       "<table border=\"1\" class=\"dataframe\">\n",
       "  <thead>\n",
       "    <tr style=\"text-align: right;\">\n",
       "      <th></th>\n",
       "      <th>ADAM19</th>\n",
       "      <th>ADM</th>\n",
       "      <th>AK5</th>\n",
       "      <th>ALDOC</th>\n",
       "      <th>ARL14</th>\n",
       "      <th>AZU1</th>\n",
       "      <th>BAMBI</th>\n",
       "      <th>CCDC3</th>\n",
       "      <th>CCDC91</th>\n",
       "      <th>CD55</th>\n",
       "      <th>...</th>\n",
       "      <th>STARD4</th>\n",
       "      <th>TDRD7</th>\n",
       "      <th>TMEM56</th>\n",
       "      <th>TXNIP</th>\n",
       "      <th>UNC93B1</th>\n",
       "      <th>VEGFC</th>\n",
       "      <th>ZNF485</th>\n",
       "      <th>D_EDAD</th>\n",
       "      <th>OS_MONTHS</th>\n",
       "      <th>DFS_STATUS</th>\n",
       "    </tr>\n",
       "  </thead>\n",
       "  <tbody>\n",
       "    <tr>\n",
       "      <td>0</td>\n",
       "      <td>486.6580</td>\n",
       "      <td>47.5629</td>\n",
       "      <td>5.1699</td>\n",
       "      <td>227.820</td>\n",
       "      <td>0.0000</td>\n",
       "      <td>13.7864</td>\n",
       "      <td>51.3542</td>\n",
       "      <td>116.150</td>\n",
       "      <td>491.828</td>\n",
       "      <td>199.213</td>\n",
       "      <td>...</td>\n",
       "      <td>21.7135</td>\n",
       "      <td>483.901</td>\n",
       "      <td>348.3470</td>\n",
       "      <td>3571.35</td>\n",
       "      <td>3838.810</td>\n",
       "      <td>59.6260</td>\n",
       "      <td>23.4368</td>\n",
       "      <td>55</td>\n",
       "      <td>133.050597</td>\n",
       "      <td>1</td>\n",
       "    </tr>\n",
       "    <tr>\n",
       "      <td>1</td>\n",
       "      <td>515.4980</td>\n",
       "      <td>516.0410</td>\n",
       "      <td>13.5943</td>\n",
       "      <td>2546.490</td>\n",
       "      <td>0.5438</td>\n",
       "      <td>0.5438</td>\n",
       "      <td>218.5970</td>\n",
       "      <td>211.528</td>\n",
       "      <td>266.993</td>\n",
       "      <td>1896.140</td>\n",
       "      <td>...</td>\n",
       "      <td>109.8420</td>\n",
       "      <td>568.787</td>\n",
       "      <td>145.7310</td>\n",
       "      <td>5023.93</td>\n",
       "      <td>936.922</td>\n",
       "      <td>249.0480</td>\n",
       "      <td>35.3453</td>\n",
       "      <td>50</td>\n",
       "      <td>131.669790</td>\n",
       "      <td>0</td>\n",
       "    </tr>\n",
       "    <tr>\n",
       "      <td>2</td>\n",
       "      <td>835.9020</td>\n",
       "      <td>107.8880</td>\n",
       "      <td>72.5295</td>\n",
       "      <td>495.920</td>\n",
       "      <td>0.0000</td>\n",
       "      <td>9.0662</td>\n",
       "      <td>235.7210</td>\n",
       "      <td>216.682</td>\n",
       "      <td>494.107</td>\n",
       "      <td>945.603</td>\n",
       "      <td>...</td>\n",
       "      <td>19.9456</td>\n",
       "      <td>445.150</td>\n",
       "      <td>46.2375</td>\n",
       "      <td>7592.02</td>\n",
       "      <td>441.523</td>\n",
       "      <td>188.5770</td>\n",
       "      <td>30.8250</td>\n",
       "      <td>62</td>\n",
       "      <td>48.459743</td>\n",
       "      <td>0</td>\n",
       "    </tr>\n",
       "    <tr>\n",
       "      <td>3</td>\n",
       "      <td>756.1700</td>\n",
       "      <td>99.1489</td>\n",
       "      <td>133.6170</td>\n",
       "      <td>368.511</td>\n",
       "      <td>0.0000</td>\n",
       "      <td>0.8511</td>\n",
       "      <td>3733.6200</td>\n",
       "      <td>219.149</td>\n",
       "      <td>399.575</td>\n",
       "      <td>2797.450</td>\n",
       "      <td>...</td>\n",
       "      <td>64.2553</td>\n",
       "      <td>498.298</td>\n",
       "      <td>287.6600</td>\n",
       "      <td>9729.36</td>\n",
       "      <td>885.532</td>\n",
       "      <td>179.1490</td>\n",
       "      <td>84.2553</td>\n",
       "      <td>50</td>\n",
       "      <td>11.440971</td>\n",
       "      <td>0</td>\n",
       "    </tr>\n",
       "    <tr>\n",
       "      <td>4</td>\n",
       "      <td>22.5251</td>\n",
       "      <td>72.0802</td>\n",
       "      <td>24.3271</td>\n",
       "      <td>305.890</td>\n",
       "      <td>0.0000</td>\n",
       "      <td>0.4505</td>\n",
       "      <td>959.1170</td>\n",
       "      <td>138.444</td>\n",
       "      <td>405.451</td>\n",
       "      <td>810.902</td>\n",
       "      <td>...</td>\n",
       "      <td>12.6140</td>\n",
       "      <td>196.869</td>\n",
       "      <td>338.2860</td>\n",
       "      <td>8965.87</td>\n",
       "      <td>287.420</td>\n",
       "      <td>45.5006</td>\n",
       "      <td>90.5507</td>\n",
       "      <td>70</td>\n",
       "      <td>8.514975</td>\n",
       "      <td>0</td>\n",
       "    </tr>\n",
       "  </tbody>\n",
       "</table>\n",
       "<p>5 rows × 49 columns</p>\n",
       "</div>"
      ],
      "text/plain": [
       "     ADAM19       ADM       AK5     ALDOC   ARL14     AZU1      BAMBI  \\\n",
       "0  486.6580   47.5629    5.1699   227.820  0.0000  13.7864    51.3542   \n",
       "1  515.4980  516.0410   13.5943  2546.490  0.5438   0.5438   218.5970   \n",
       "2  835.9020  107.8880   72.5295   495.920  0.0000   9.0662   235.7210   \n",
       "3  756.1700   99.1489  133.6170   368.511  0.0000   0.8511  3733.6200   \n",
       "4   22.5251   72.0802   24.3271   305.890  0.0000   0.4505   959.1170   \n",
       "\n",
       "     CCDC3   CCDC91      CD55  ...    STARD4    TDRD7    TMEM56    TXNIP  \\\n",
       "0  116.150  491.828   199.213  ...   21.7135  483.901  348.3470  3571.35   \n",
       "1  211.528  266.993  1896.140  ...  109.8420  568.787  145.7310  5023.93   \n",
       "2  216.682  494.107   945.603  ...   19.9456  445.150   46.2375  7592.02   \n",
       "3  219.149  399.575  2797.450  ...   64.2553  498.298  287.6600  9729.36   \n",
       "4  138.444  405.451   810.902  ...   12.6140  196.869  338.2860  8965.87   \n",
       "\n",
       "    UNC93B1     VEGFC   ZNF485  D_EDAD   OS_MONTHS  DFS_STATUS  \n",
       "0  3838.810   59.6260  23.4368      55  133.050597           1  \n",
       "1   936.922  249.0480  35.3453      50  131.669790           0  \n",
       "2   441.523  188.5770  30.8250      62   48.459743           0  \n",
       "3   885.532  179.1490  84.2553      50   11.440971           0  \n",
       "4   287.420   45.5006  90.5507      70    8.514975           0  \n",
       "\n",
       "[5 rows x 49 columns]"
      ]
     },
     "execution_count": 220,
     "metadata": {},
     "output_type": "execute_result"
    }
   ],
   "source": [
    "#data.head()\n",
    "dataTFM.head()"
   ]
  },
  {
   "cell_type": "markdown",
   "metadata": {},
   "source": [
    "## 1. Pre-procesado"
   ]
  },
  {
   "cell_type": "code",
   "execution_count": 221,
   "metadata": {},
   "outputs": [
    {
     "data": {
      "text/plain": [
       "ADAM19        0\n",
       "ADM           0\n",
       "AK5           0\n",
       "ALDOC         0\n",
       "ARL14         0\n",
       "AZU1          0\n",
       "BAMBI         0\n",
       "CCDC3         0\n",
       "CCDC91        0\n",
       "CD55          0\n",
       "CLIC3         0\n",
       "CYB5R2        0\n",
       "CYFIP2        0\n",
       "DHX34         0\n",
       "F3            0\n",
       "FLNC          0\n",
       "GALNT5        0\n",
       "GEM           0\n",
       "GPD2          0\n",
       "GPR110        0\n",
       "HTRA1         0\n",
       "IGSF3         0\n",
       "IL1A          0\n",
       "KIAA0040      0\n",
       "LGALS3BP      0\n",
       "LRRC49        0\n",
       "LYPD6         0\n",
       "MSX2          0\n",
       "MYO1D         0\n",
       "PLCB2         0\n",
       "PLEKHA3       0\n",
       "PRICKLE1      0\n",
       "PSMB9         0\n",
       "RIN2          0\n",
       "SEMA3A        0\n",
       "SERPINA1      0\n",
       "SPRY4         0\n",
       "SRPX          0\n",
       "ST7L          0\n",
       "STARD4        0\n",
       "TDRD7         0\n",
       "TMEM56        0\n",
       "TXNIP         0\n",
       "UNC93B1       0\n",
       "VEGFC         0\n",
       "ZNF485        0\n",
       "D_EDAD        0\n",
       "OS_MONTHS     0\n",
       "DFS_STATUS    0\n",
       "dtype: int64"
      ]
     },
     "execution_count": 221,
     "metadata": {},
     "output_type": "execute_result"
    }
   ],
   "source": [
    "#Buscamos valores perdidos\n",
    "dataTFM.isnull().sum()"
   ]
  },
  {
   "cell_type": "code",
   "execution_count": 222,
   "metadata": {},
   "outputs": [
    {
     "name": "stdout",
     "output_type": "stream",
     "text": [
      "Número de características: 48\n",
      "Número de clases: 2\n"
     ]
    }
   ],
   "source": [
    "numFeatures = features.shape[1]\n",
    "print(\"Número de características: {}\".format(numFeatures))\n",
    "print(\"Número de clases: {}\".format(dataTFM.DFS_STATUS.value_counts().shape[0]))\n",
    "\n",
    "#normalizar los datos de entrada\n",
    "dataFeatures = dataTFM.iloc[:,0:48]\n",
    "\n",
    "normalized_df=(dataFeatures-dataFeatures.min())/(dataFeatures.max()-dataFeatures.min())\n",
    "#print(\"\\nDatos normalizados:\")\n",
    "features = normalized_df.iloc[:,:48].values"
   ]
  },
  {
   "cell_type": "code",
   "execution_count": 223,
   "metadata": {},
   "outputs": [],
   "source": [
    "#binarizar la clase dfs_status\n",
    "labels_ohe = keras.utils.to_categorical(labels, num_classes=2)"
   ]
  },
  {
   "cell_type": "markdown",
   "metadata": {},
   "source": [
    "A continuación dividimos los datos en un conjunto de train y de test, dejando 20% para test:"
   ]
  },
  {
   "cell_type": "code",
   "execution_count": 247,
   "metadata": {},
   "outputs": [
    {
     "name": "stdout",
     "output_type": "stream",
     "text": [
      "742\n",
      "186\n"
     ]
    }
   ],
   "source": [
    "train_x, test_x, train_y, test_y = train_test_split(features, labels_ohe, test_size=0.20, stratify=labels_ohe)\n",
    "print (len(train_y))\n",
    "print (len(test_y))"
   ]
  },
  {
   "cell_type": "code",
   "execution_count": 248,
   "metadata": {},
   "outputs": [],
   "source": [
    "## VISUALIZAR LOS RESULTADOS ##\n",
    "%matplotlib inline\n",
    "import matplotlib.pyplot as plt\n",
    "def visualizarPrecision_y_Perdida(numModelo, history):\n",
    "    # Visualizamos la evolución de la accuracy\n",
    "    plt.plot(history.history['accuracy'])\n",
    "    plt.plot(history.history['val_accuracy'])\n",
    "    plt.title('Precision Modelo '+numModelo)\n",
    "    plt.ylabel('precisión')\n",
    "    plt.xlabel('epoch')\n",
    "    plt.legend(['train', 'test'], loc='lower right')\n",
    "    plt.show()\n",
    "    # Visualizamos la evolución del error cometido por la red\n",
    "    plt.plot(history.history['loss'])\n",
    "    plt.plot(history.history['val_loss'])\n",
    "    plt.title('Pérdida Modelo '+numModelo)\n",
    "    plt.ylabel('loss')\n",
    "    plt.xlabel('epoch')\n",
    "    plt.legend(['train', 'test'], loc='upper right')\n",
    "    plt.show()\n"
   ]
  },
  {
   "cell_type": "code",
   "execution_count": 249,
   "metadata": {},
   "outputs": [],
   "source": [
    "def scale_plot_size(factor=1.5):\n",
    "    import matplotlib as mpl\n",
    "    default_dpi = mpl.rcParamsDefault['figure.dpi']\n",
    "    mpl.rcParams['figure.dpi'] = default_dpi*factor\n",
    "scale_plot_size(1)    \n",
    "\n",
    "#visualizarPrecision_y_Perdida('Inicial', history)    "
   ]
  },
  {
   "cell_type": "code",
   "execution_count": 259,
   "metadata": {},
   "outputs": [],
   "source": [
    "from time import time\n",
    "def evaluar_modelos(arquitecturas):\n",
    "    def keras_model(layers_dims, lr, epocas):    \n",
    "        L = len(layers_dims)\n",
    "        model = Sequential()\n",
    "        model.add(Dense(layers_dims[1], input_shape=(layers_dims[0],), activation=\"relu\"))\n",
    "        #model.add(Dropout(0.3))\n",
    "        \n",
    "        for l in range(2, L-1):\n",
    "            model.add(Dense(layers_dims[l], activation=\"relu\"))\n",
    "            #model.add(Dropout(0.5))        \n",
    "\n",
    "        model.add(Dense(layers_dims[L-1], activation=\"sigmoid\"))\n",
    "        optimizadorAdam=keras.optimizers.Adam(learning_rate=lr)\n",
    "        opt = SGD(lr=lr, momentum=0.9)\n",
    "        model.compile(loss='binary_crossentropy', optimizer=opt, metrics=['accuracy'])        \n",
    "        #model.compile(loss='binary_crossentropy', optimizer=optimizadorAdam, metrics=['accuracy'])        \n",
    "        #model.compile(optimizer=optimizadorAdam, loss='binary_crossentropy', metrics=['binary_accuracy'])\n",
    "        model.fit(train_x, train_y,  validation_data = (test_x, test_y), epochs=epocas, verbose=0, batch_size=128)\n",
    "        return model.evaluate(test_x, test_y, verbose=0)\n",
    "\n",
    "    learn_rate = [0.1, 0.01, 0.001]\n",
    "    epochs = [20,50, 100, 250]\n",
    "    maxAcc = 0;\n",
    "    n_combinaciones = len(arquitecturas)*len(learn_rate)*len(epochs)\n",
    "    parametros = np.zeros((n_combinaciones, 4))\n",
    "    mejorIteracion = -1\n",
    "    mejorArquitectura = [0]\n",
    "    numModelo = 0\n",
    "    for i in range(len(arquitecturas)):        \n",
    "        for j in range(len(learn_rate)):\n",
    "            for k in range (len(epochs)):                \n",
    "                start = time()                \n",
    "                parametros[numModelo, 0] = learn_rate[j]\n",
    "                parametros[numModelo, 1] = epochs[k]                                \n",
    "                loss, accuracy = keras_model(arquitecturas[i], learn_rate[j], epochs[k])\n",
    "                end = time()\n",
    "                segundos = end - start\n",
    "                parametros[numModelo, 2] = accuracy*100\n",
    "                parametros[numModelo, 3] = segundos                \n",
    "                print(\"|\", \"{:02d}\".format(numModelo+1), \"| [\",*arquitecturas[i],\"] {4} {0} {4} {1} {4} {2:.2f}s {4} {3:.2f}% {4}\".format(learn_rate[j], epochs[k], segundos, accuracy*100, '|'))                \n",
    "                if (accuracy > maxAcc):\n",
    "                    maxAcc = accuracy\n",
    "                    mejorIteracion = numModelo\n",
    "                    mejorArquitectura = i\n",
    "                numModelo += 1    \n",
    "    return arquitecturas[mejorArquitectura], parametros[mejorIteracion]\n",
    "\n"
   ]
  },
  {
   "cell_type": "code",
   "execution_count": 260,
   "metadata": {},
   "outputs": [],
   "source": [
    "#INICIALIZAR PARÁMETROS\n",
    "dim_4_capas_ocultas = [numFeatures, 96,48,20,5,2]\n",
    "dim_3_capas_ocultas = [numFeatures, 48,20,5,2]\n",
    "dim_2_capas_ocultas = [numFeatures, 48,20,2]\n",
    "dim_1_capas_ocultas = [numFeatures, 48,2]\n",
    "arquitecturas = [dim_4_capas_ocultas,dim_3_capas_ocultas,dim_2_capas_ocultas,dim_1_capas_ocultas]\n"
   ]
  },
  {
   "cell_type": "code",
   "execution_count": 261,
   "metadata": {
    "scrolled": true
   },
   "outputs": [
    {
     "name": "stdout",
     "output_type": "stream",
     "text": [
      "| 01 | [ 48 96 48 20 5 2 ] | 0.1 | 20 | 6.77s | 90.86% |\n",
      "| 02 | [ 48 96 48 20 5 2 ] | 0.1 | 50 | 2.83s | 90.86% |\n",
      "| 03 | [ 48 96 48 20 5 2 ] | 0.1 | 100 | 3.13s | 90.86% |\n",
      "| 04 | [ 48 96 48 20 5 2 ] | 0.1 | 250 | 4.63s | 85.75% |\n",
      "| 05 | [ 48 96 48 20 5 2 ] | 0.01 | 20 | 1.91s | 90.86% |\n",
      "| 06 | [ 48 96 48 20 5 2 ] | 0.01 | 50 | 2.47s | 90.86% |\n",
      "| 07 | [ 48 96 48 20 5 2 ] | 0.01 | 100 | 3.26s | 90.86% |\n",
      "| 08 | [ 48 96 48 20 5 2 ] | 0.01 | 250 | 5.44s | 90.86% |\n",
      "| 09 | [ 48 96 48 20 5 2 ] | 0.001 | 20 | 1.71s | 90.86% |\n",
      "| 10 | [ 48 96 48 20 5 2 ] | 0.001 | 50 | 2.20s | 90.86% |\n",
      "| 11 | [ 48 96 48 20 5 2 ] | 0.001 | 100 | 2.43s | 90.86% |\n",
      "| 12 | [ 48 96 48 20 5 2 ] | 0.001 | 250 | 4.12s | 90.86% |\n",
      "| 13 | [ 48 48 20 5 2 ] | 0.1 | 20 | 1.42s | 90.86% |\n",
      "| 14 | [ 48 48 20 5 2 ] | 0.1 | 50 | 2.23s | 90.86% |\n",
      "| 15 | [ 48 48 20 5 2 ] | 0.1 | 100 | 2.48s | 90.86% |\n",
      "| 16 | [ 48 48 20 5 2 ] | 0.1 | 250 | 3.94s | 85.48% |\n",
      "| 17 | [ 48 48 20 5 2 ] | 0.01 | 20 | 1.39s | 90.86% |\n",
      "| 18 | [ 48 48 20 5 2 ] | 0.01 | 50 | 1.63s | 90.86% |\n",
      "| 19 | [ 48 48 20 5 2 ] | 0.01 | 100 | 2.16s | 90.86% |\n",
      "| 20 | [ 48 48 20 5 2 ] | 0.01 | 250 | 4.29s | 90.86% |\n",
      "| 21 | [ 48 48 20 5 2 ] | 0.001 | 20 | 1.40s | 90.86% |\n",
      "| 22 | [ 48 48 20 5 2 ] | 0.001 | 50 | 1.91s | 90.86% |\n",
      "| 23 | [ 48 48 20 5 2 ] | 0.001 | 100 | 2.58s | 90.86% |\n",
      "| 24 | [ 48 48 20 5 2 ] | 0.001 | 250 | 4.21s | 90.86% |\n",
      "| 25 | [ 48 48 20 2 ] | 0.1 | 20 | 1.17s | 90.86% |\n",
      "| 26 | [ 48 48 20 2 ] | 0.1 | 50 | 1.51s | 90.86% |\n",
      "| 27 | [ 48 48 20 2 ] | 0.1 | 100 | 1.94s | 89.78% |\n",
      "| 28 | [ 48 48 20 2 ] | 0.1 | 250 | 3.41s | 84.41% |\n",
      "| 29 | [ 48 48 20 2 ] | 0.01 | 20 | 1.15s | 90.86% |\n",
      "| 30 | [ 48 48 20 2 ] | 0.01 | 50 | 11.58s | 90.86% |\n",
      "| 31 | [ 48 48 20 2 ] | 0.01 | 100 | 1.97s | 90.86% |\n",
      "| 32 | [ 48 48 20 2 ] | 0.01 | 250 | 4.23s | 90.86% |\n",
      "| 33 | [ 48 48 20 2 ] | 0.001 | 20 | 1.30s | 90.86% |\n",
      "| 34 | [ 48 48 20 2 ] | 0.001 | 50 | 1.47s | 90.86% |\n",
      "| 35 | [ 48 48 20 2 ] | 0.001 | 100 | 2.09s | 90.86% |\n",
      "| 36 | [ 48 48 20 2 ] | 0.001 | 250 | 4.02s | 90.86% |\n",
      "| 37 | [ 48 48 2 ] | 0.1 | 20 | 1.27s | 90.86% |\n",
      "| 38 | [ 48 48 2 ] | 0.1 | 50 | 1.35s | 90.86% |\n",
      "| 39 | [ 48 48 2 ] | 0.1 | 100 | 1.95s | 90.86% |\n",
      "| 40 | [ 48 48 2 ] | 0.1 | 250 | 3.47s | 88.98% |\n",
      "| 41 | [ 48 48 2 ] | 0.01 | 20 | 1.25s | 90.86% |\n",
      "| 42 | [ 48 48 2 ] | 0.01 | 50 | 2.10s | 90.86% |\n",
      "| 43 | [ 48 48 2 ] | 0.01 | 100 | 2.78s | 90.86% |\n",
      "| 44 | [ 48 48 2 ] | 0.01 | 250 | 4.49s | 90.86% |\n",
      "| 45 | [ 48 48 2 ] | 0.001 | 20 | 1.93s | 90.86% |\n",
      "| 46 | [ 48 48 2 ] | 0.001 | 50 | 1.54s | 90.86% |\n",
      "| 47 | [ 48 48 2 ] | 0.001 | 100 | 2.05s | 90.86% |\n",
      "| 48 | [ 48 48 2 ] | 0.001 | 250 | 3.36s | 90.86% |\n"
     ]
    }
   ],
   "source": [
    "#ENTRENAR MODELOS\n",
    "mejorModelo = evaluar_modelos(arquitecturas)       "
   ]
  },
  {
   "cell_type": "code",
   "execution_count": 262,
   "metadata": {},
   "outputs": [
    {
     "name": "stdout",
     "output_type": "stream",
     "text": [
      "Los mejores resultados se han obtenido con el siguiente modelo:\n",
      "Arquitectura: [48, 96, 48, 20, 5, 2] \n",
      "Velocidad de aprendizaje: 0.1\n",
      "Épocas: 20.0 \n",
      "\n",
      "Precisión 90.86021780967712 \n",
      "Tiempo 6.77344274520874\n"
     ]
    }
   ],
   "source": [
    "#MEJOR RESULTADO\n",
    "print(\"Los mejores resultados se han obtenido con el siguiente modelo:\\nArquitectura: {} \\nVelocidad de aprendizaje: {}\\nÉpocas: {} \".format(mejorModelo[0], mejorModelo[1][0],mejorModelo[1][1]))\n",
    "print(\"\\nPrecisión {} \\nTiempo {}\".format(mejorModelo[1][2],mejorModelo[1][3]))\n"
   ]
  },
  {
   "cell_type": "code",
   "execution_count": 263,
   "metadata": {},
   "outputs": [],
   "source": [
    "def get_keras_model(layers_dims, lr):    \n",
    "        L = len(layers_dims)\n",
    "\n",
    "        model = Sequential()\n",
    "        model.add(Dense(layers_dims[1], input_shape=(layers_dims[0],), activation=\"relu\"))\n",
    "        #model.add(Dropout(0.5))\n",
    "        \n",
    "        for l in range(2, L-1):\n",
    "            model.add(Dense(layers_dims[l], activation=\"relu\"))\n",
    "            #model.add(Dropout(0.5))        \n",
    "\n",
    "        model.add(Dense(layers_dims[L-1], activation=\"softmax\"))\n",
    "        optimizadorAdam=keras.optimizers.Adam(learning_rate=lr)\n",
    "        opt = SGD(lr, momentum=0.9)\n",
    "        #model.compile(optimizer=optimizadorAdam, loss='binary_crossentropy', metrics=['accuracy'])\n",
    "        model.compile(optimizer=optimizadorAdam, loss='binary_crossentropy', metrics=['accuracy'])\n",
    "        #model.fit(train_x, train_y,  validation_data = (test_x, test_y), epochs=epocas, verbose=0,batch_size=64)\n",
    "        #return model.evaluate(test_x, test_y, verbose=0)\n",
    "        return model\n",
    "    \n",
    "\n",
    "# Plot del training loss y el accuracy\n",
    "def plot_prediction(n_epochs, mfit):\n",
    "    plt.style.use(\"ggplot\")\n",
    "    plt.figure()\n",
    "    N = n_epochs\n",
    "    plt.plot(np.arange(0, N), mfit.history[\"loss\"], label=\"train_loss\")\n",
    "    plt.plot(np.arange(0, N), mfit.history[\"val_loss\"], label=\"val_loss\")\n",
    "    plt.plot(np.arange(0, N), mfit.history[\"accuracy\"], label=\"train_acc\")\n",
    "    plt.plot(np.arange(0, N), mfit.history[\"val_accuracy\"], label=\"val_acc\")\n",
    "    plt.title(\"Training Loss and Accuracy\")\n",
    "    plt.xlabel(\"Epoch #\")\n",
    "    plt.ylabel(\"Loss/Accuracy\")\n",
    "    plt.legend(loc=\"upper right\")\n",
    "    plt.show()\n",
    "def display_training_curves(training, validation, title, subplot):\n",
    "  ax = plt.subplot(subplot)\n",
    "  ax.plot(training)\n",
    "  ax.plot(validation)\n",
    "  ax.set_title(title + ' del modelo')\n",
    "  ax.set_ylabel(title)\n",
    "  ax.set_xlabel('epoch')\n",
    "  ax.legend(['training', 'validation'])    \n",
    "#plot_prediction(n_epochs, mfit) "
   ]
  },
  {
   "cell_type": "code",
   "execution_count": 308,
   "metadata": {},
   "outputs": [
    {
     "name": "stdout",
     "output_type": "stream",
     "text": [
      "Model: \"sequential_565\"\n",
      "_________________________________________________________________\n",
      "Layer (type)                 Output Shape              Param #   \n",
      "=================================================================\n",
      "dense_2243 (Dense)           (None, 96)                4704      \n",
      "_________________________________________________________________\n",
      "dense_2244 (Dense)           (None, 48)                4656      \n",
      "_________________________________________________________________\n",
      "dense_2245 (Dense)           (None, 20)                980       \n",
      "_________________________________________________________________\n",
      "dense_2246 (Dense)           (None, 5)                 105       \n",
      "_________________________________________________________________\n",
      "dense_2247 (Dense)           (None, 2)                 12        \n",
      "=================================================================\n",
      "Total params: 10,457\n",
      "Trainable params: 10,457\n",
      "Non-trainable params: 0\n",
      "_________________________________________________________________\n"
     ]
    }
   ],
   "source": [
    "modelo = get_keras_model([48, 96, 48, 20, 5, 2], 0.01) \n",
    "modelo.summary()"
   ]
  },
  {
   "cell_type": "code",
   "execution_count": 311,
   "metadata": {},
   "outputs": [
    {
     "name": "stdout",
     "output_type": "stream",
     "text": [
      "Train on 742 samples, validate on 186 samples\n",
      "Epoch 1/20\n",
      "742/742 [==============================] - 0s 28us/step - loss: 1.1523e-04 - accuracy: 1.0000 - val_loss: 1.4984 - val_accuracy: 0.8441\n",
      "Epoch 2/20\n",
      "742/742 [==============================] - 0s 21us/step - loss: 1.0880e-04 - accuracy: 1.0000 - val_loss: 1.5019 - val_accuracy: 0.8441\n",
      "Epoch 3/20\n",
      "742/742 [==============================] - 0s 21us/step - loss: 1.0328e-04 - accuracy: 1.0000 - val_loss: 1.5049 - val_accuracy: 0.8441\n",
      "Epoch 4/20\n",
      "742/742 [==============================] - 0s 29us/step - loss: 9.7524e-05 - accuracy: 1.0000 - val_loss: 1.5082 - val_accuracy: 0.8441\n",
      "Epoch 5/20\n",
      "742/742 [==============================] - 0s 30us/step - loss: 9.2642e-05 - accuracy: 1.0000 - val_loss: 1.5115 - val_accuracy: 0.8441\n",
      "Epoch 6/20\n",
      "742/742 [==============================] - 0s 25us/step - loss: 8.8350e-05 - accuracy: 1.0000 - val_loss: 1.5142 - val_accuracy: 0.8441\n",
      "Epoch 7/20\n",
      "742/742 [==============================] - 0s 33us/step - loss: 8.4317e-05 - accuracy: 1.0000 - val_loss: 1.5171 - val_accuracy: 0.8441\n",
      "Epoch 8/20\n",
      "742/742 [==============================] - 0s 25us/step - loss: 8.0089e-05 - accuracy: 1.0000 - val_loss: 1.5205 - val_accuracy: 0.8441\n",
      "Epoch 9/20\n",
      "742/742 [==============================] - 0s 30us/step - loss: 7.6623e-05 - accuracy: 1.0000 - val_loss: 1.5240 - val_accuracy: 0.8441\n",
      "Epoch 10/20\n",
      "742/742 [==============================] - 0s 29us/step - loss: 7.3352e-05 - accuracy: 1.0000 - val_loss: 1.5276 - val_accuracy: 0.8441\n",
      "Epoch 11/20\n",
      "742/742 [==============================] - 0s 29us/step - loss: 7.0206e-05 - accuracy: 1.0000 - val_loss: 1.5300 - val_accuracy: 0.8441\n",
      "Epoch 12/20\n",
      "742/742 [==============================] - 0s 24us/step - loss: 6.7313e-05 - accuracy: 1.0000 - val_loss: 1.5323 - val_accuracy: 0.8441\n",
      "Epoch 13/20\n",
      "742/742 [==============================] - 0s 28us/step - loss: 6.4494e-05 - accuracy: 1.0000 - val_loss: 1.5352 - val_accuracy: 0.8441\n",
      "Epoch 14/20\n",
      "742/742 [==============================] - 0s 32us/step - loss: 6.2057e-05 - accuracy: 1.0000 - val_loss: 1.5378 - val_accuracy: 0.8441\n",
      "Epoch 15/20\n",
      "742/742 [==============================] - 0s 24us/step - loss: 5.9790e-05 - accuracy: 1.0000 - val_loss: 1.5409 - val_accuracy: 0.8441\n",
      "Epoch 16/20\n",
      "742/742 [==============================] - 0s 32us/step - loss: 5.7534e-05 - accuracy: 1.0000 - val_loss: 1.5431 - val_accuracy: 0.8441\n",
      "Epoch 17/20\n",
      "742/742 [==============================] - 0s 29us/step - loss: 5.5498e-05 - accuracy: 1.0000 - val_loss: 1.5448 - val_accuracy: 0.8441\n",
      "Epoch 18/20\n",
      "742/742 [==============================] - 0s 32us/step - loss: 5.3423e-05 - accuracy: 1.0000 - val_loss: 1.5474 - val_accuracy: 0.8441\n",
      "Epoch 19/20\n",
      "742/742 [==============================] - 0s 26us/step - loss: 5.1613e-05 - accuracy: 1.0000 - val_loss: 1.5492 - val_accuracy: 0.8441\n",
      "Epoch 20/20\n",
      "742/742 [==============================] - 0s 29us/step - loss: 4.9856e-05 - accuracy: 1.0000 - val_loss: 1.5511 - val_accuracy: 0.8441\n"
     ]
    }
   ],
   "source": [
    "history = modelo.fit(train_x, train_y,  validation_data = (test_x, test_y), epochs=20, verbose=1,batch_size=128)\n"
   ]
  },
  {
   "cell_type": "code",
   "execution_count": 312,
   "metadata": {},
   "outputs": [
    {
     "name": "stdout",
     "output_type": "stream",
     "text": [
      "dict_keys(['val_loss', 'val_accuracy', 'loss', 'accuracy'])\n",
      "Precisión media del modelo (test):  0.8440860509872437\n",
      "Precisión media del modelo (train):  1.0\n"
     ]
    }
   ],
   "source": [
    "print(history.history.keys())\n",
    "final_accuracy = history.history[\"val_accuracy\"]\n",
    "test_accuracy = np.mean(history.history[\"accuracy\"])\n",
    "print(\"Precisión media del modelo (test): \", np.mean(final_accuracy))\n",
    "print(\"Precisión media del modelo (train): \", test_accuracy)\n"
   ]
  },
  {
   "cell_type": "code",
   "execution_count": 313,
   "metadata": {},
   "outputs": [
    {
     "data": {
      "image/png": "[encoded data removed]",
      "text/plain": [
       "<Figure size 1000x1000 with 2 Axes>"
      ]
     },
     "metadata": {
      "needs_background": "light"
     },
     "output_type": "display_data"
    }
   ],
   "source": [
    "plt.subplots(figsize=(10,10))\n",
    "plt.tight_layout()\n",
    "display_training_curves(history.history['accuracy'], history.history['val_accuracy'], 'precisión', 211)\n",
    "display_training_curves(history.history['loss'], history.history['val_loss'], 'pérdida', 212)\n",
    "\n"
   ]
  },
  {
   "cell_type": "code",
   "execution_count": 306,
   "metadata": {},
   "outputs": [],
   "source": [
    "from sklearn.metrics import classification_report, confusion_matrix\n",
    "#predicciones = modelo.predict(test_x, batch_size=10, verbose=0)\n",
    "predicciones = modelo.predict(test_x)\n"
   ]
  },
  {
   "cell_type": "code",
   "execution_count": 307,
   "metadata": {},
   "outputs": [
    {
     "data": {
      "text/plain": [
       "array([[169,   0],\n",
       "       [ 17,   0]], dtype=int64)"
      ]
     },
     "execution_count": 307,
     "metadata": {},
     "output_type": "execute_result"
    }
   ],
   "source": [
    "matrix = confusion_matrix(test_y.argmax(axis=1), predicciones.argmax(axis=1))\n",
    "matrix\n"
   ]
  },
  {
   "cell_type": "markdown",
   "metadata": {},
   "source": [
    "Nos ha clasificado 13 registros cuyo estado era recurrente como libre de enfermedad."
   ]
  },
  {
   "cell_type": "code",
   "execution_count": 242,
   "metadata": {},
   "outputs": [],
   "source": [
    "%matplotlib inline\n",
    "from sklearn.metrics import confusion_matrix\n",
    "import itertools\n",
    "import matplotlib.pyplot as plt\n",
    "\n",
    "def plot_confusion_matrix(cm, classes,\n",
    "                        normalize=False,\n",
    "                        title='Confusion matrix',\n",
    "                        cmap=plt.cm.Blues):\n",
    "    \"\"\"\n",
    "    This function prints and plots the confusion matrix.\n",
    "    Normalization can be applied by setting `normalize=True`.\n",
    "    \"\"\"\n",
    "    plt.imshow(cm, interpolation='nearest', cmap=cmap)\n",
    "    plt.title(title)\n",
    "    plt.colorbar()\n",
    "    tick_marks = np.arange(len(classes))\n",
    "    plt.xticks(tick_marks, classes, rotation=45)\n",
    "    plt.yticks(tick_marks, classes)\n",
    "\n",
    "    if normalize:\n",
    "        cm = cm.astype('float') / cm.sum(axis=1)[:, np.newaxis]\n",
    "        print(\"Matriz de confusión normalizada\")\n",
    "    else:\n",
    "        print('Matriz de confusión')\n",
    "\n",
    "    print(cm)\n",
    "\n",
    "    thresh = cm.max() / 2.\n",
    "    for i, j in itertools.product(range(cm.shape[0]), range(cm.shape[1])):\n",
    "        plt.text(j, i, cm[i, j],\n",
    "            horizontalalignment=\"center\",\n",
    "            color=\"white\" if cm[i, j] > thresh else \"black\")\n",
    "\n",
    "    plt.tight_layout()\n",
    "    plt.ylabel('True label')\n",
    "    plt.xlabel('Predicted label')"
   ]
  },
  {
   "cell_type": "code",
   "execution_count": 243,
   "metadata": {},
   "outputs": [],
   "source": [
    "cm_plot_labels=['Sin recurrencia','Recurrencia']"
   ]
  },
  {
   "cell_type": "code",
   "execution_count": 244,
   "metadata": {},
   "outputs": [
    {
     "name": "stdout",
     "output_type": "stream",
     "text": [
      "Matriz de confusión\n",
      "[[167   2]\n",
      " [ 16   1]]\n"
     ]
    },
    {
     "data": {
      "image/png": "[encoded data removed]",
      "text/plain": [
       "<Figure size 432x288 with 2 Axes>"
      ]
     },
     "metadata": {
      "needs_background": "light"
     },
     "output_type": "display_data"
    }
   ],
   "source": [
    "plot_confusion_matrix(cm=matrix,classes=cm_plot_labels,title='Matriz de confusion')"
   ]
  },
  {
   "cell_type": "code",
   "execution_count": null,
   "metadata": {},
   "outputs": [],
   "source": []
  }
 ],
 "metadata": {
  "kernelspec": {
   "display_name": "Python 3",
   "language": "python",
   "name": "python3"
  },
  "language_info": {
   "codemirror_mode": {
    "name": "ipython",
    "version": 3
   },
   "file_extension": ".py",
   "mimetype": "text/x-python",
   "name": "python",
   "nbconvert_exporter": "python",
   "pygments_lexer": "ipython3",
   "version": "3.7.4"
  }
 },
 "nbformat": 4,
 "nbformat_minor": 2
}
