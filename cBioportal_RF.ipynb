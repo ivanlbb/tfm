{
 "cells": [
  {
   "cell_type": "markdown",
   "metadata": {},
   "source": [
    "## Carga de datos\n",
    "\n"
   ]
  },
  {
   "cell_type": "code",
   "execution_count": 1,
   "metadata": {},
   "outputs": [],
   "source": [
    "import numpy as np\n",
    "import pandas as pd\n",
    "from sklearn.model_selection import train_test_split\n",
    "from sklearn.preprocessing import MinMaxScaler\n",
    "from sklearn.ensemble import RandomForestClassifier\n",
    "from sklearn.model_selection import cross_val_score\n",
    "from sklearn.metrics import classification_report, confusion_matrix"
   ]
  },
  {
   "cell_type": "code",
   "execution_count": 35,
   "metadata": {
    "scrolled": true
   },
   "outputs": [],
   "source": [
    "dataTFM = pd.read_csv(\"./cBIOPORTAL/ML/expression_y_clinica_firma_3_cancer_2000.csv\",sep='\\t')\n",
    "\n",
    "#no necesitamos cambiar el valor de DFS_STATUS para poder utilizarlo como clase\n",
    "#dataTFM['DFS_STATUS'] = np.where(dataTFM['DFS_STATUS'] =='1:Recurred/Progressed', 1, 0)\n",
    "dataTFM['OS_STATUS'] = np.where(dataTFM['OS_STATUS'] =='0:LIVING', 0, 1)\n",
    "\n",
    "#Changing pandas dataframe to numpy array\n",
    "features = dataTFM.iloc[:,:49].values\n",
    "labels = dataTFM.iloc[:,49:50].values\n"
   ]
  },
  {
   "cell_type": "code",
   "execution_count": 36,
   "metadata": {},
   "outputs": [
    {
     "data": {
      "text/html": [
       "<div>\n",
       "<style scoped>\n",
       "    .dataframe tbody tr th:only-of-type {\n",
       "        vertical-align: middle;\n",
       "    }\n",
       "\n",
       "    .dataframe tbody tr th {\n",
       "        vertical-align: top;\n",
       "    }\n",
       "\n",
       "    .dataframe thead th {\n",
       "        text-align: right;\n",
       "    }\n",
       "</style>\n",
       "<table border=\"1\" class=\"dataframe\">\n",
       "  <thead>\n",
       "    <tr style=\"text-align: right;\">\n",
       "      <th></th>\n",
       "      <th>ADAM19</th>\n",
       "      <th>ADM</th>\n",
       "      <th>AK5</th>\n",
       "      <th>ALDOC</th>\n",
       "      <th>ARL14</th>\n",
       "      <th>AZU1</th>\n",
       "      <th>BAMBI</th>\n",
       "      <th>CCDC3</th>\n",
       "      <th>CCDC91</th>\n",
       "      <th>CD55</th>\n",
       "      <th>...</th>\n",
       "      <th>TDRD7</th>\n",
       "      <th>TMEM56</th>\n",
       "      <th>TXNIP</th>\n",
       "      <th>UNC93B1</th>\n",
       "      <th>VEGFC</th>\n",
       "      <th>ZNF485</th>\n",
       "      <th>D_EDAD</th>\n",
       "      <th>OS_STATUS</th>\n",
       "      <th>OS_MONTHS</th>\n",
       "      <th>DFS_STATUS</th>\n",
       "    </tr>\n",
       "  </thead>\n",
       "  <tbody>\n",
       "    <tr>\n",
       "      <td>0</td>\n",
       "      <td>486.6580</td>\n",
       "      <td>47.5629</td>\n",
       "      <td>5.1699</td>\n",
       "      <td>227.820</td>\n",
       "      <td>0.0000</td>\n",
       "      <td>13.7864</td>\n",
       "      <td>51.3542</td>\n",
       "      <td>116.150</td>\n",
       "      <td>491.828</td>\n",
       "      <td>199.213</td>\n",
       "      <td>...</td>\n",
       "      <td>483.901</td>\n",
       "      <td>348.3470</td>\n",
       "      <td>3571.35</td>\n",
       "      <td>3838.810</td>\n",
       "      <td>59.6260</td>\n",
       "      <td>23.4368</td>\n",
       "      <td>55</td>\n",
       "      <td>0</td>\n",
       "      <td>133.050597</td>\n",
       "      <td>1:Recurred/Progressed</td>\n",
       "    </tr>\n",
       "    <tr>\n",
       "      <td>1</td>\n",
       "      <td>515.4980</td>\n",
       "      <td>516.0410</td>\n",
       "      <td>13.5943</td>\n",
       "      <td>2546.490</td>\n",
       "      <td>0.5438</td>\n",
       "      <td>0.5438</td>\n",
       "      <td>218.5970</td>\n",
       "      <td>211.528</td>\n",
       "      <td>266.993</td>\n",
       "      <td>1896.140</td>\n",
       "      <td>...</td>\n",
       "      <td>568.787</td>\n",
       "      <td>145.7310</td>\n",
       "      <td>5023.93</td>\n",
       "      <td>936.922</td>\n",
       "      <td>249.0480</td>\n",
       "      <td>35.3453</td>\n",
       "      <td>50</td>\n",
       "      <td>0</td>\n",
       "      <td>131.669790</td>\n",
       "      <td>0:DiseaseFree</td>\n",
       "    </tr>\n",
       "    <tr>\n",
       "      <td>2</td>\n",
       "      <td>835.9020</td>\n",
       "      <td>107.8880</td>\n",
       "      <td>72.5295</td>\n",
       "      <td>495.920</td>\n",
       "      <td>0.0000</td>\n",
       "      <td>9.0662</td>\n",
       "      <td>235.7210</td>\n",
       "      <td>216.682</td>\n",
       "      <td>494.107</td>\n",
       "      <td>945.603</td>\n",
       "      <td>...</td>\n",
       "      <td>445.150</td>\n",
       "      <td>46.2375</td>\n",
       "      <td>7592.02</td>\n",
       "      <td>441.523</td>\n",
       "      <td>188.5770</td>\n",
       "      <td>30.8250</td>\n",
       "      <td>62</td>\n",
       "      <td>0</td>\n",
       "      <td>48.459743</td>\n",
       "      <td>0:DiseaseFree</td>\n",
       "    </tr>\n",
       "    <tr>\n",
       "      <td>3</td>\n",
       "      <td>756.1700</td>\n",
       "      <td>99.1489</td>\n",
       "      <td>133.6170</td>\n",
       "      <td>368.511</td>\n",
       "      <td>0.0000</td>\n",
       "      <td>0.8511</td>\n",
       "      <td>3733.6200</td>\n",
       "      <td>219.149</td>\n",
       "      <td>399.575</td>\n",
       "      <td>2797.450</td>\n",
       "      <td>...</td>\n",
       "      <td>498.298</td>\n",
       "      <td>287.6600</td>\n",
       "      <td>9729.36</td>\n",
       "      <td>885.532</td>\n",
       "      <td>179.1490</td>\n",
       "      <td>84.2553</td>\n",
       "      <td>50</td>\n",
       "      <td>0</td>\n",
       "      <td>11.440971</td>\n",
       "      <td>0:DiseaseFree</td>\n",
       "    </tr>\n",
       "    <tr>\n",
       "      <td>4</td>\n",
       "      <td>22.5251</td>\n",
       "      <td>72.0802</td>\n",
       "      <td>24.3271</td>\n",
       "      <td>305.890</td>\n",
       "      <td>0.0000</td>\n",
       "      <td>0.4505</td>\n",
       "      <td>959.1170</td>\n",
       "      <td>138.444</td>\n",
       "      <td>405.451</td>\n",
       "      <td>810.902</td>\n",
       "      <td>...</td>\n",
       "      <td>196.869</td>\n",
       "      <td>338.2860</td>\n",
       "      <td>8965.87</td>\n",
       "      <td>287.420</td>\n",
       "      <td>45.5006</td>\n",
       "      <td>90.5507</td>\n",
       "      <td>70</td>\n",
       "      <td>0</td>\n",
       "      <td>8.514975</td>\n",
       "      <td>0:DiseaseFree</td>\n",
       "    </tr>\n",
       "  </tbody>\n",
       "</table>\n",
       "<p>5 rows × 50 columns</p>\n",
       "</div>"
      ],
      "text/plain": [
       "     ADAM19       ADM       AK5     ALDOC   ARL14     AZU1      BAMBI  \\\n",
       "0  486.6580   47.5629    5.1699   227.820  0.0000  13.7864    51.3542   \n",
       "1  515.4980  516.0410   13.5943  2546.490  0.5438   0.5438   218.5970   \n",
       "2  835.9020  107.8880   72.5295   495.920  0.0000   9.0662   235.7210   \n",
       "3  756.1700   99.1489  133.6170   368.511  0.0000   0.8511  3733.6200   \n",
       "4   22.5251   72.0802   24.3271   305.890  0.0000   0.4505   959.1170   \n",
       "\n",
       "     CCDC3   CCDC91      CD55  ...    TDRD7    TMEM56    TXNIP   UNC93B1  \\\n",
       "0  116.150  491.828   199.213  ...  483.901  348.3470  3571.35  3838.810   \n",
       "1  211.528  266.993  1896.140  ...  568.787  145.7310  5023.93   936.922   \n",
       "2  216.682  494.107   945.603  ...  445.150   46.2375  7592.02   441.523   \n",
       "3  219.149  399.575  2797.450  ...  498.298  287.6600  9729.36   885.532   \n",
       "4  138.444  405.451   810.902  ...  196.869  338.2860  8965.87   287.420   \n",
       "\n",
       "      VEGFC   ZNF485  D_EDAD  OS_STATUS   OS_MONTHS             DFS_STATUS  \n",
       "0   59.6260  23.4368      55          0  133.050597  1:Recurred/Progressed  \n",
       "1  249.0480  35.3453      50          0  131.669790          0:DiseaseFree  \n",
       "2  188.5770  30.8250      62          0   48.459743          0:DiseaseFree  \n",
       "3  179.1490  84.2553      50          0   11.440971          0:DiseaseFree  \n",
       "4   45.5006  90.5507      70          0    8.514975          0:DiseaseFree  \n",
       "\n",
       "[5 rows x 50 columns]"
      ]
     },
     "execution_count": 36,
     "metadata": {},
     "output_type": "execute_result"
    }
   ],
   "source": [
    "dataTFM.head()\n"
   ]
  },
  {
   "cell_type": "markdown",
   "metadata": {},
   "source": [
    "## 1. Pre-procesado"
   ]
  },
  {
   "cell_type": "code",
   "execution_count": 37,
   "metadata": {},
   "outputs": [
    {
     "data": {
      "text/plain": [
       "ADAM19        0\n",
       "ADM           0\n",
       "AK5           0\n",
       "ALDOC         0\n",
       "ARL14         0\n",
       "AZU1          0\n",
       "BAMBI         0\n",
       "CCDC3         0\n",
       "CCDC91        0\n",
       "CD55          0\n",
       "CLIC3         0\n",
       "CYB5R2        0\n",
       "CYFIP2        0\n",
       "DHX34         0\n",
       "F3            0\n",
       "FLNC          0\n",
       "GALNT5        0\n",
       "GEM           0\n",
       "GPD2          0\n",
       "GPR110        0\n",
       "HTRA1         0\n",
       "IGSF3         0\n",
       "IL1A          0\n",
       "KIAA0040      0\n",
       "LGALS3BP      0\n",
       "LRRC49        0\n",
       "LYPD6         0\n",
       "MSX2          0\n",
       "MYO1D         0\n",
       "PLCB2         0\n",
       "PLEKHA3       0\n",
       "PRICKLE1      0\n",
       "PSMB9         0\n",
       "RIN2          0\n",
       "SEMA3A        0\n",
       "SERPINA1      0\n",
       "SPRY4         0\n",
       "SRPX          0\n",
       "ST7L          0\n",
       "STARD4        0\n",
       "TDRD7         0\n",
       "TMEM56        0\n",
       "TXNIP         0\n",
       "UNC93B1       0\n",
       "VEGFC         0\n",
       "ZNF485        0\n",
       "D_EDAD        0\n",
       "OS_STATUS     0\n",
       "OS_MONTHS     0\n",
       "DFS_STATUS    0\n",
       "dtype: int64"
      ]
     },
     "execution_count": 37,
     "metadata": {},
     "output_type": "execute_result"
    }
   ],
   "source": [
    "#Buscamos valores perdidos\n",
    "dataTFM.isnull().sum()"
   ]
  },
  {
   "cell_type": "code",
   "execution_count": 38,
   "metadata": {},
   "outputs": [
    {
     "name": "stdout",
     "output_type": "stream",
     "text": [
      "Número de características: 49\n",
      "Número de clases: 2\n"
     ]
    }
   ],
   "source": [
    "numFeatures = features.shape[1]\n",
    "print(\"Número de características: {}\".format(numFeatures))\n",
    "print(\"Número de clases: {}\".format(dataTFM.DFS_STATUS.value_counts().shape[0]))\n",
    "\n",
    "#normalizar los datos de entrada\n",
    "dataFeatures = dataTFM.iloc[:,0:49]\n",
    "\n",
    "normalized_df=(dataFeatures-dataFeatures.min())/(dataFeatures.max()-dataFeatures.min())\n",
    "#print(\"\\nDatos normalizados:\")\n",
    "features = normalized_df.iloc[:,:49].values\n"
   ]
  },
  {
   "cell_type": "code",
   "execution_count": 39,
   "metadata": {},
   "outputs": [
    {
     "name": "stdout",
     "output_type": "stream",
     "text": [
      "DFS_STATUS\n",
      "0:DiseaseFree            844\n",
      "1:Recurred/Progressed     84\n",
      "dtype: int64\n"
     ]
    }
   ],
   "source": [
    "print(dataTFM.groupby('DFS_STATUS').size())"
   ]
  },
  {
   "cell_type": "markdown",
   "metadata": {},
   "source": [
    "A continuación dividimos los datos en un conjunto de train y de test, dejando 20% para test:"
   ]
  },
  {
   "cell_type": "code",
   "execution_count": 26,
   "metadata": {},
   "outputs": [],
   "source": [
    "X_train, X_test, y_train, y_test = train_test_split(features, labels, test_size=0.2, random_state=2017, stratify=labels)\n"
   ]
  },
  {
   "cell_type": "markdown",
   "metadata": {},
   "source": [
    "### Arbol de decisión"
   ]
  },
  {
   "cell_type": "code",
   "execution_count": 27,
   "metadata": {},
   "outputs": [],
   "source": [
    "%matplotlib inline\n",
    "from sklearn.metrics import confusion_matrix\n",
    "import itertools\n",
    "import matplotlib.pyplot as plt\n",
    "\n",
    "def plot_confusion_matrix(cm, classes,\n",
    "                        normalize=False,\n",
    "                        title='Confusion matrix',\n",
    "                        cmap=plt.cm.Blues):\n",
    "    \"\"\"\n",
    "    This function prints and plots the confusion matrix.\n",
    "    Normalization can be applied by setting `normalize=True`.\n",
    "    \"\"\"\n",
    "    plt.imshow(cm, interpolation='nearest', cmap=cmap)\n",
    "    plt.title(title)\n",
    "    plt.colorbar()\n",
    "    tick_marks = np.arange(len(classes))\n",
    "    plt.xticks(tick_marks, classes, rotation=45)\n",
    "    plt.yticks(tick_marks, classes)\n",
    "\n",
    "    if normalize:\n",
    "        cm = cm.astype('float') / cm.sum(axis=1)[:, np.newaxis]\n",
    "        print(\"Matriz de confusión normalizada\")\n",
    "    else:\n",
    "        print('Matriz de confusión')\n",
    "\n",
    "    print(cm)\n",
    "\n",
    "    thresh = cm.max() / 2.\n",
    "    for i, j in itertools.product(range(cm.shape[0]), range(cm.shape[1])):\n",
    "        plt.text(j, i, cm[i, j],\n",
    "            horizontalalignment=\"center\",\n",
    "            verticalalignment=\"top\",\n",
    "            color=\"white\" if cm[i, j] > thresh else \"black\")\n",
    "\n",
    "    plt.tight_layout()\n",
    "    plt.ylabel('Valor real')\n",
    "    plt.xlabel('Predicción')\n",
    "cm_plot_labels=['Sin recurrencia','Recurrencia']    "
   ]
  },
  {
   "cell_type": "code",
   "execution_count": 124,
   "metadata": {},
   "outputs": [
    {
     "name": "stdout",
     "output_type": "stream",
     "text": [
      "Precisión del cross validation: 90.43% (std: 0.020)\n",
      "\n",
      "Precisión en el conjunto de test: 92.47%\n"
     ]
    }
   ],
   "source": [
    "from sklearn import tree\n",
    "arbol = tree.DecisionTreeClassifier(max_depth=6);\n",
    "\n",
    "scores = cross_val_score(arbol, X_train, y_train.ravel(), cv=5)\n",
    "\n",
    "print(\"Precisión del cross validation: {:.2f}% (std: {:.3f})\".format(scores.mean()*100,\n",
    "                                          scores.std()),\n",
    "                                          end=\"\\n\\n\" )\n",
    "\n",
    "#obtener las predicciones con el conjunto de datos de test\n",
    "#entrenar el arbol\n",
    "arbol.fit(X_train, y_train.ravel())\n",
    "preds_arbol = arbol.predict(X_test)\n",
    "labels = np.unique(y_test)\n",
    "accuracy = np.true_divide(np.sum(preds_arbol == y_test.ravel()), preds_arbol.shape[0])\n",
    "print(\"Precisión en el conjunto de test: {:.2f}%\".format(accuracy*100))"
   ]
  },
  {
   "cell_type": "code",
   "execution_count": 125,
   "metadata": {},
   "outputs": [
    {
     "name": "stdout",
     "output_type": "stream",
     "text": [
      "Matriz de confusión\n",
      "[[167   2]\n",
      " [ 12   5]]\n"
     ]
    },
    {
     "data": {
      "image/png": "[encoded data removed]",
      "text/plain": [
       "<Figure size 432x288 with 2 Axes>"
      ]
     },
     "metadata": {
      "needs_background": "light"
     },
     "output_type": "display_data"
    }
   ],
   "source": [
    "matrix = confusion_matrix(y_test.ravel(), preds_arbol)\n",
    "plot_confusion_matrix(cm=matrix,classes=cm_plot_labels,title='Matriz de confusión')"
   ]
  },
  {
   "cell_type": "code",
   "execution_count": 126,
   "metadata": {},
   "outputs": [
    {
     "name": "stdout",
     "output_type": "stream",
     "text": [
      "Especificidad:  0.9881656804733728\n",
      "Sensibilidad:  0.29411764705882354\n"
     ]
    }
   ],
   "source": [
    "E = matrix[0,0]/(matrix[0,0]+matrix[0,1])\n",
    "S = matrix[1,1]/(matrix[1,0]+matrix[1,1])\n",
    "print (\"Especificidad: \", E)\n",
    "print (\"Sensibilidad: \", S)"
   ]
  },
  {
   "cell_type": "markdown",
   "metadata": {},
   "source": [
    "### Random Forest"
   ]
  },
  {
   "cell_type": "code",
   "execution_count": 127,
   "metadata": {},
   "outputs": [
    {
     "name": "stdout",
     "output_type": "stream",
     "text": [
      "Precisión del cross-validation: 91.91% (std: 0.007)\n",
      "\n",
      "Precisión en el conjunto de test: 92.47%\n"
     ]
    }
   ],
   "source": [
    "rfc = RandomForestClassifier(n_estimators=20, max_depth = 10)\n",
    "scores = cross_val_score(rfc, X_train, y_train.ravel(), cv=5)\n",
    "print(\"Precisión del cross-validation: {:.2f}% (std: {:.3f})\".format(scores.mean()*100,\n",
    "                                          scores.std()),\n",
    "                                          end=\"\\n\\n\" )\n",
    "rfc.fit(X_train,  y_train.ravel())\n",
    "preds_rfc = rfc.predict(X_test)\n",
    "accuracy = np.true_divide(np.sum(preds_rfc == y_test.ravel()), preds_rfc.shape[0])\n",
    "print(\"Precisión en el conjunto de test: {:.2f}%\".format(accuracy*100))\n",
    "\n"
   ]
  },
  {
   "cell_type": "code",
   "execution_count": 128,
   "metadata": {},
   "outputs": [
    {
     "name": "stdout",
     "output_type": "stream",
     "text": [
      "Matriz de confusión\n",
      "[[166   3]\n",
      " [ 11   6]]\n"
     ]
    },
    {
     "data": {
      "image/png": "[encoded data removed]",
      "text/plain": [
       "<Figure size 432x288 with 2 Axes>"
      ]
     },
     "metadata": {
      "needs_background": "light"
     },
     "output_type": "display_data"
    }
   ],
   "source": [
    "matrix = confusion_matrix(y_test.ravel(), preds_rfc)\n",
    "plot_confusion_matrix(cm=matrix,classes=cm_plot_labels,title='Matriz de confusion')"
   ]
  },
  {
   "cell_type": "code",
   "execution_count": 129,
   "metadata": {},
   "outputs": [
    {
     "name": "stdout",
     "output_type": "stream",
     "text": [
      "Especificidad:  0.9822485207100592\n",
      "Sensibilidad:  0.35294117647058826\n"
     ]
    }
   ],
   "source": [
    "E = matrix[0,0]/(matrix[0,0]+matrix[0,1])\n",
    "S = matrix[1,1]/(matrix[1,0]+matrix[1,1])\n",
    "\n",
    "print (\"Especificidad: \", E)\n",
    "print (\"Sensibilidad: \", S)"
   ]
  },
  {
   "cell_type": "markdown",
   "metadata": {},
   "source": [
    "### Boosting"
   ]
  },
  {
   "cell_type": "code",
   "execution_count": 130,
   "metadata": {},
   "outputs": [
    {
     "name": "stdout",
     "output_type": "stream",
     "text": [
      "Precisión del cross-validation: 89.35% (std: 0.025)\n",
      "\n",
      "Precisión en el conjunto de test: 93.01%\n"
     ]
    }
   ],
   "source": [
    "from sklearn.ensemble import GradientBoostingClassifier\n",
    "gbc = GradientBoostingClassifier(n_estimators=200, max_depth = 20)\n",
    "scores = cross_val_score(gbc, X_train, y_train.ravel(), cv=5)\n",
    "print(\"Precisión del cross-validation: {:.2f}% (std: {:.3f})\".format(scores.mean()*100,\n",
    "                                          scores.std()),\n",
    "                                          end=\"\\n\\n\" )\n",
    "gbc.fit(X_train, y_train.ravel())\n",
    "preds_gbc = gbc.predict(X_test)\n",
    "accuracy = np.true_divide(np.sum(preds_gbc == y_test.ravel()), preds_gbc.shape[0])\n",
    "print(\"Precisión en el conjunto de test: {:.2f}%\".format(accuracy*100))"
   ]
  },
  {
   "cell_type": "code",
   "execution_count": 131,
   "metadata": {},
   "outputs": [
    {
     "name": "stdout",
     "output_type": "stream",
     "text": [
      "Matriz de confusión\n",
      "[[169   0]\n",
      " [ 13   4]]\n"
     ]
    },
    {
     "data": {
      "image/png": "[encoded data removed]",
      "text/plain": [
       "<Figure size 432x288 with 2 Axes>"
      ]
     },
     "metadata": {
      "needs_background": "light"
     },
     "output_type": "display_data"
    }
   ],
   "source": [
    "matrix = confusion_matrix(y_test.ravel(), preds_gbc)\n",
    "plot_confusion_matrix(cm=matrix,classes=cm_plot_labels,title='Matriz de confusion')\n",
    "#visualizarPrecision_y_Perdida('Inicial', history)    "
   ]
  },
  {
   "cell_type": "code",
   "execution_count": 132,
   "metadata": {},
   "outputs": [
    {
     "name": "stdout",
     "output_type": "stream",
     "text": [
      "Especificidad:  1.0\n",
      "Sensibilidad:  0.23529411764705882\n"
     ]
    }
   ],
   "source": [
    "E = matrix[0,0]/(matrix[0,0]+matrix[0,1])\n",
    "S = matrix[1,1]/(matrix[1,0]+matrix[1,1])\n",
    "\n",
    "print (\"Especificidad: \", E)\n",
    "print (\"Sensibilidad: \", S)"
   ]
  },
  {
   "cell_type": "code",
   "execution_count": null,
   "metadata": {},
   "outputs": [],
   "source": []
  },
  {
   "cell_type": "code",
   "execution_count": null,
   "metadata": {},
   "outputs": [],
   "source": []
  },
  {
   "cell_type": "code",
   "execution_count": null,
   "metadata": {},
   "outputs": [],
   "source": []
  }
 ],
 "metadata": {
  "kernelspec": {
   "display_name": "Python 3",
   "language": "python",
   "name": "python3"
  },
  "language_info": {
   "codemirror_mode": {
    "name": "ipython",
    "version": 3
   },
   "file_extension": ".py",
   "mimetype": "text/x-python",
   "name": "python",
   "nbconvert_exporter": "python",
   "pygments_lexer": "ipython3",
   "version": "3.7.4"
  }
 },
 "nbformat": 4,
 "nbformat_minor": 2
}
